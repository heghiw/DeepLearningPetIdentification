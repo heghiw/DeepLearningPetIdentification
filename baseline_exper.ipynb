{
  "cells": [
    {
      "cell_type": "markdown",
      "metadata": {
        "id": "view-in-github",
        "colab_type": "text"
      },
      "source": [
        "<a href=\"https://colab.research.google.com/github/heghiw/DeepLearningPetIdentification/blob/main/baseline_exper.ipynb\" target=\"_parent\"><img src=\"https://colab.research.google.com/assets/colab-badge.svg\" alt=\"Open In Colab\"/></a>"
      ]
    },
    {
      "cell_type": "markdown",
      "source": [
        "This baseline model is designed to perform vector similarity search for a pet database. When a user uploads an image of a pet, the model checks whether a similar pet has been previously found. **EfficientNetB0**, a pre-trained convolutional neural network, is used to extract embeddings from images. **FAISS** enables efficient indexing and search of the result vectors. **Cosine similarity** and **L2 distance** are compared to select the best method for determining image similarity. The goal of the experiment is to evaluate these metrics' performance, with **recall** , **precision** , and **F1 score** used to assess the general model's accuracy."
      ],
      "metadata": {
        "id": "cCbfFtLGCpzT"
      }
    },
    {
      "cell_type": "markdown",
      "source": [
        "imports:"
      ],
      "metadata": {
        "id": "g7OWa9B34YXh"
      }
    },
    {
      "cell_type": "code",
      "source": [
        "## 1st -  Download utility.py file from github repository\n",
        "## 2nd - Imports all functions from utility.py\n",
        "\n",
        "import requests\n",
        "\n",
        "# Correct raw URL for the utility.py file\n",
        "url = \"https://raw.githubusercontent.com/avkaz/DeepLearningPetIdentification/main/utility.py\"\n",
        "\n",
        "# Fetch and save the file locally\n",
        "response = requests.get(url)\n",
        "with open(\"utility.py\", \"wb\") as f:\n",
        "    f.write(response.content)\n",
        "\n",
        "\n",
        "import utility\n",
        "print(\"utility.py downloaded successfully.\")\n",
        "\n",
        "import tensorflow as tf\n",
        "\n",
        "from tensorflow.keras.applications import EfficientNetB0\n",
        "from tensorflow.keras.applications.efficientnet import preprocess_input\n",
        "import requests\n",
        "import json\n",
        "import numpy as np\n",
        "import matplotlib.pyplot as plt\n",
        "import tensorflow as tf\n",
        "from PIL import Image\n",
        "from io import BytesIO\n",
        "import pandas as pd\n",
        "from google.colab import files\n",
        "!pip install faiss-gpu\n",
        "from tensorflow.keras.applications import EfficientNetB0\n",
        "import faiss"
      ],
      "metadata": {
        "colab": {
          "base_uri": "https://localhost:8080/"
        },
        "id": "y-DVu6nn7wsg",
        "outputId": "819f459d-c94a-4867-ca70-d80e5311b36e"
      },
      "execution_count": 29,
      "outputs": [
        {
          "output_type": "stream",
          "name": "stdout",
          "text": [
            "utility.py downloaded successfully.\n",
            "Requirement already satisfied: faiss-gpu in /usr/local/lib/python3.10/dist-packages (1.7.2)\n"
          ]
        }
      ]
    },
    {
      "cell_type": "markdown",
      "source": [
        "data:"
      ],
      "metadata": {
        "id": "-fneyksHDAKR"
      }
    },
    {
      "cell_type": "code",
      "source": [
        "data = utility.get_data()\n",
        "trypets = list(data.items())[:20]\n",
        "#trypets"
      ],
      "metadata": {
        "id": "9sAf1snM75pI"
      },
      "execution_count": 3,
      "outputs": []
    },
    {
      "cell_type": "markdown",
      "source": [
        "EfficientNetB0, pre-trained on ImageNet, is chosen for its strong performance and efficiency. With `include_top=False`, it focuses on embeddings extraction by excluding fully connected layers. Images need preprocessing to fit the model's input requirements for effective similarity comparison."
      ],
      "metadata": {
        "id": "_-luM4rKwmRV"
      }
    },
    {
      "cell_type": "code",
      "source": [
        "model = EfficientNetB0(weights='imagenet', include_top=False, pooling='avg')"
      ],
      "metadata": {
        "id": "8Lv9AmFY8ODL"
      },
      "execution_count": 28,
      "outputs": []
    },
    {
      "cell_type": "markdown",
      "source": [
        "Postings with multiple pets are filtered out to ensure the dataset consists of single-pet entries for accurate similarity matching."
      ],
      "metadata": {
        "id": "5Yyq-5Gs5aCJ"
      }
    },
    {
      "cell_type": "code",
      "source": [
        "f_trypets = [\n",
        "    pet for pet in trypets\n",
        "    if not any(part.startswith('a') for part in pet[0].split('-')[1:])\n",
        "]\n",
        "#f_trypets"
      ],
      "metadata": {
        "collapsed": true,
        "id": "WkVcWjqzyzi1"
      },
      "execution_count": 30,
      "outputs": []
    },
    {
      "cell_type": "markdown",
      "source": [
        "Below, embeddings for pet images are computed and compared using FAISS with L2 distance and cosine similarity. The embeddings are normalized and indexed for efficient retrieval. For each pet, the **top 5** nearest neighbors are retrieved using both similarity measures. The first picture retrieved is the test image, which shows a **low L2 distance and high cosine similarity** to itself. Performance is evaluated using **precision, recall, and F1 score** at k=5 for both similarity measures, with results displayed for each pet along with average metrics to assess overall performance."
      ],
      "metadata": {
        "id": "ZwXCC1vU4JiZ"
      }
    },
    {
      "cell_type": "code",
      "source": [
        "# embeddings for FAISS\n",
        "all_embeddings = []\n",
        "all_pet_names = []\n",
        "all_image_urls = []\n",
        "\n",
        "for pet_id, pet_info in f_trypets:\n",
        "    pet_name = pet_info['Jméno']\n",
        "    for image_url in pet_info[\"images\"]:\n",
        "        embedding = utility.download_and_preprocess_image(image_url, target_size=(224, 224))\n",
        "        if embedding is not None:\n",
        "            all_embeddings.append(embedding.numpy().flatten())  # flatten\n",
        "            all_pet_names.append(pet_name)\n",
        "            all_image_urls.append(image_url)\n",
        "\n",
        "all_embeddings = np.array(all_embeddings)"
      ],
      "metadata": {
        "colab": {
          "base_uri": "https://localhost:8080/"
        },
        "id": "4vmXJ69_D-je",
        "outputId": "30722667-42a6-4db6-8c88-8eedc65d67c6"
      },
      "execution_count": 6,
      "outputs": [
        {
          "output_type": "stream",
          "name": "stdout",
          "text": [
            "Uploading model...\n",
            "Model loaded successfully.\n"
          ]
        }
      ]
    },
    {
      "cell_type": "code",
      "source": [
        "# normalize embeddings\n",
        "def normalize_embeddings(embeddings):\n",
        "    norms = np.linalg.norm(embeddings, axis=1, keepdims=True)\n",
        "    return embeddings / norms\n",
        "\n",
        "normalized_embeddings = normalize_embeddings(all_embeddings)\n",
        "\n",
        "# FAISS indexes\n",
        "l2_index = faiss.IndexFlatL2(all_embeddings.shape[1])\n",
        "cosine_similarity_index = faiss.IndexFlatIP(all_embeddings.shape[1])\n",
        "\n",
        "# add embeddings to indexes\n",
        "l2_index.add(all_embeddings)\n",
        "cosine_similarity_index.add(normalized_embeddings)\n",
        "\n",
        "# unique pet\n",
        "unique_pet_indices = {name: idx for idx, name in enumerate(all_pet_names)}.values()\n",
        "\n",
        "# main test fun\n",
        "def test_pet_retrieval(test_embedding_index, k=5):\n",
        "    test_embedding = all_embeddings[test_embedding_index:test_embedding_index + 1]\n",
        "    test_embedding_normalized = normalized_embeddings[test_embedding_index:test_embedding_index + 1]\n",
        "\n",
        "    l2_distances, l2_indices = l2_index.search(test_embedding, k)\n",
        "    cosine_sim_scores, cosine_sim_indices = cosine_similarity_index.search(test_embedding_normalized, k)\n",
        "\n",
        "    results = []\n",
        "    for rank, (l2_dist, l2_idx, cos_sim_score, cos_sim_idx) in enumerate(\n",
        "        zip(l2_distances[0], l2_indices[0], cosine_sim_scores[0], cosine_sim_indices[0]), start=1\n",
        "    ):\n",
        "        results.append({\n",
        "            \"Rank\": rank,\n",
        "            \"Test_Pet\": all_pet_names[test_embedding_index],\n",
        "            \"Matched_Pet_L2\": all_pet_names[l2_idx],\n",
        "            \"Matched_Pet_Cosine\": all_pet_names[cos_sim_idx],\n",
        "            \"L2_Distance\": l2_dist,\n",
        "            \"Cosine_Similarity\": cos_sim_score,\n",
        "            \"Image_URL_L2\": all_image_urls[l2_idx],\n",
        "            \"Image_URL_Cosine\": all_image_urls[cos_sim_idx],\n",
        "        })\n",
        "\n",
        "    return results\n",
        "\n",
        "# metrics\n",
        "def calculate_metrics(results, ground_truth, k):\n",
        "    \"\"\"\n",
        "    calculate precision, recall, and F1 score at k.\n",
        "    \"\"\"\n",
        "    top_k_results_cosine = [res[\"Matched_Pet_Cosine\"] for res in results[:k]]\n",
        "    top_k_results_l2 = [res[\"Matched_Pet_L2\"] for res in results[:k]]\n",
        "\n",
        "    relevant_results_cosine = [1 if pet == ground_truth else 0 for pet in top_k_results_cosine]\n",
        "    relevant_results_l2 = [1 if pet == ground_truth else 0 for pet in top_k_results_l2]\n",
        "\n",
        "    precision_cosine = sum(relevant_results_cosine) / k\n",
        "    recall_cosine = sum(relevant_results_cosine) / 1  # Single ground truth assumption\n",
        "    f1_cosine = (\n",
        "        2 * precision_cosine * recall_cosine / (precision_cosine + recall_cosine)\n",
        "        if (precision_cosine + recall_cosine) > 0 else 0\n",
        "    )\n",
        "\n",
        "    precision_l2 = sum(relevant_results_l2) / k\n",
        "    recall_l2 = sum(relevant_results_l2) / 1\n",
        "    f1_l2 = (\n",
        "        2 * precision_l2 * recall_l2 / (precision_l2 + recall_l2)\n",
        "        if (precision_l2 + recall_l2) > 0 else 0\n",
        "    )\n",
        "\n",
        "    return precision_cosine, recall_cosine, f1_cosine, precision_l2, recall_l2, f1_l2\n",
        "\n",
        "# test\n",
        "k = 5\n",
        "metrics = {\n",
        "    \"Pet_Name\": [],\n",
        "    \"Precision@5_Cosine\": [],\n",
        "    \"Recall@5_Cosine\": [],\n",
        "    \"F1@5_Cosine\": [],\n",
        "    \"Precision@5_L2\": [],\n",
        "    \"Recall@5_L2\": [],\n",
        "    \"F1@5_L2\": [],\n",
        "}\n",
        "\n",
        "for idx in unique_pet_indices:\n",
        "    print(f\"\\nTested Pet: {all_pet_names[idx]}\")\n",
        "    results = test_pet_retrieval(idx)\n",
        "    for res in results:\n",
        "        print(res)\n",
        "\n",
        "    ground_truth = all_pet_names[idx]\n",
        "    precision_cosine, recall_cosine, f1_cosine, precision_l2, recall_l2, f1_l2 = calculate_metrics(results, ground_truth, k)\n",
        "\n",
        "    metrics[\"Pet_Name\"].append(ground_truth)\n",
        "    metrics[\"Precision@5_Cosine\"].append(precision_cosine)\n",
        "    metrics[\"Recall@5_Cosine\"].append(recall_cosine)\n",
        "    metrics[\"F1@5_Cosine\"].append(f1_cosine)\n",
        "    metrics[\"Precision@5_L2\"].append(precision_l2)\n",
        "    metrics[\"Recall@5_L2\"].append(recall_l2)\n",
        "    metrics[\"F1@5_L2\"].append(f1_l2)\n",
        "\n",
        "    print(f\"Cosine - Precision@5: {precision_cosine:.4f}, Recall@5: {recall_cosine:.4f}, F1@5: {f1_cosine:.4f}\")\n",
        "    print(f\"L2 - Precision@5: {precision_l2:.4f}, Recall@5: {recall_l2:.4f}, F1@5: {f1_l2:.4f}\")\n",
        "\n",
        "# display res\n",
        "df_metrics = pd.DataFrame(metrics)\n",
        "print(\"\\n=== Metrics per Pet ===\")\n",
        "print(df_metrics)\n",
        "\n",
        "\n",
        "average_metrics = {\n",
        "    \"Metric\": [\"Precision@5_Cosine\", \"Recall@5_Cosine\", \"F1@5_Cosine\", \"Precision@5_L2\", \"Recall@5_L2\", \"F1@5_L2\"],\n",
        "    \"Average\": [\n",
        "        np.mean(metrics[\"Precision@5_Cosine\"]),\n",
        "        np.mean(metrics[\"Recall@5_Cosine\"]),\n",
        "        np.mean(metrics[\"F1@5_Cosine\"]),\n",
        "        np.mean(metrics[\"Precision@5_L2\"]),\n",
        "        np.mean(metrics[\"Recall@5_L2\"]),\n",
        "        np.mean(metrics[\"F1@5_L2\"]),\n",
        "    ]\n",
        "}\n",
        "df_average_metrics = pd.DataFrame(average_metrics)\n",
        "print(\"\\n=== Average Metrics ===\")\n",
        "print(df_average_metrics)\n"
      ],
      "metadata": {
        "colab": {
          "base_uri": "https://localhost:8080/"
        },
        "id": "ERIvAFDDsR4J",
        "outputId": "cf9a305e-56f5-492e-d1df-ae15682f910c"
      },
      "execution_count": 36,
      "outputs": [
        {
          "output_type": "stream",
          "name": "stdout",
          "text": [
            "\n",
            "Tested Pet: Tanyny\n",
            "{'Rank': 1, 'Test_Pet': 'Tanyny', 'Matched_Pet_L2': 'Tanyny', 'Matched_Pet_Cosine': 'Tanyny', 'L2_Distance': 0.0, 'Cosine_Similarity': 0.9998541, 'Image_URL_L2': 'https://www.psidetektiv.cz/data/catalog/big/2024/12/22/img190394.jpg', 'Image_URL_Cosine': 'https://www.psidetektiv.cz/data/catalog/big/2024/12/22/img190394.jpg'}\n",
            "{'Rank': 2, 'Test_Pet': 'Tanyny', 'Matched_Pet_L2': 'Želva', 'Matched_Pet_Cosine': 'Tanyny', 'L2_Distance': 7621.1436, 'Cosine_Similarity': 0.8709577, 'Image_URL_L2': 'https://www.psidetektiv.cz/data/catalog/big/2024/12/19/img190186.jpg', 'Image_URL_Cosine': 'https://www.psidetektiv.cz/data/catalog/big/2024/12/22/img190393.jpg'}\n",
            "{'Rank': 3, 'Test_Pet': 'Tanyny', 'Matched_Pet_L2': 'Tanyny', 'Matched_Pet_Cosine': 'Tanyny', 'L2_Distance': 7742.9434, 'Cosine_Similarity': 0.8643462, 'Image_URL_L2': 'https://www.psidetektiv.cz/data/catalog/big/2024/12/22/img190391.jpg', 'Image_URL_Cosine': 'https://www.psidetektiv.cz/data/catalog/big/2024/12/22/img190391.jpg'}\n",
            "{'Rank': 4, 'Test_Pet': 'Tanyny', 'Matched_Pet_L2': 'Tanyny', 'Matched_Pet_Cosine': 'Terina', 'L2_Distance': 8732.462, 'Cosine_Similarity': 0.864077, 'Image_URL_L2': 'https://www.psidetektiv.cz/data/catalog/big/2024/12/22/img190393.jpg', 'Image_URL_Cosine': 'https://www.psidetektiv.cz/data/catalog/big/2024/12/17/img190110.jpg'}\n",
            "{'Rank': 5, 'Test_Pet': 'Tanyny', 'Matched_Pet_L2': 'Endy', 'Matched_Pet_Cosine': 'Lily', 'L2_Distance': 8884.556, 'Cosine_Similarity': 0.85849065, 'Image_URL_L2': 'https://www.psidetektiv.cz/data/catalog/big/2024/12/19/img190221.jpg', 'Image_URL_Cosine': 'https://www.psidetektiv.cz/data/catalog/big/2024/12/19/img190244.jpg'}\n",
            "Cosine - Precision@5: 0.6000, Recall@5: 3.0000, F1@5: 1.0000\n",
            "L2 - Precision@5: 0.6000, Recall@5: 3.0000, F1@5: 1.0000\n",
            "\n",
            "Tested Pet: Haily\n",
            "{'Rank': 1, 'Test_Pet': 'Haily', 'Matched_Pet_L2': 'Haily', 'Matched_Pet_Cosine': 'Haily', 'L2_Distance': 0.0, 'Cosine_Similarity': 1.0001576, 'Image_URL_L2': 'https://www.psidetektiv.cz/data/catalog/big/2024/12/21/img190384.jpg', 'Image_URL_Cosine': 'https://www.psidetektiv.cz/data/catalog/big/2024/12/21/img190384.jpg'}\n",
            "{'Rank': 2, 'Test_Pet': 'Haily', 'Matched_Pet_L2': 'Haily', 'Matched_Pet_Cosine': 'Alfík', 'L2_Distance': 9984.049, 'Cosine_Similarity': 0.8409357, 'Image_URL_L2': 'https://www.psidetektiv.cz/data/catalog/big/2024/12/21/img190383.jpg', 'Image_URL_Cosine': 'https://www.psidetektiv.cz/data/catalog/big/2024/12/20/img190320.jpg'}\n",
            "{'Rank': 3, 'Test_Pet': 'Haily', 'Matched_Pet_L2': 'Ira', 'Matched_Pet_Cosine': 'Lily', 'L2_Distance': 10322.392, 'Cosine_Similarity': 0.83518034, 'Image_URL_L2': 'https://www.psidetektiv.cz/data/catalog/big/2024/12/17/img190089.jpg', 'Image_URL_Cosine': 'https://www.psidetektiv.cz/data/catalog/big/2024/12/19/img190243.jpg'}\n",
            "{'Rank': 4, 'Test_Pet': 'Haily', 'Matched_Pet_L2': 'Alfík', 'Matched_Pet_Cosine': 'Urri', 'L2_Distance': 11606.105, 'Cosine_Similarity': 0.8311209, 'Image_URL_L2': 'https://www.psidetektiv.cz/data/catalog/big/2024/12/20/img190321.jpg', 'Image_URL_Cosine': 'https://www.psidetektiv.cz/data/catalog/big/2024/12/20/img190258.jpg'}\n",
            "{'Rank': 5, 'Test_Pet': 'Haily', 'Matched_Pet_L2': 'Ira', 'Matched_Pet_Cosine': 'Adolf', 'L2_Distance': 12090.913, 'Cosine_Similarity': 0.830418, 'Image_URL_L2': 'https://www.psidetektiv.cz/data/catalog/big/2024/12/17/img190088.jpg', 'Image_URL_Cosine': 'https://www.psidetektiv.cz/data/catalog/big/2024/12/17/img190085.jpg'}\n",
            "Cosine - Precision@5: 0.2000, Recall@5: 1.0000, F1@5: 0.3333\n",
            "L2 - Precision@5: 0.4000, Recall@5: 2.0000, F1@5: 0.6667\n",
            "\n",
            "Tested Pet: Egy\n",
            "{'Rank': 1, 'Test_Pet': 'Egy', 'Matched_Pet_L2': 'Egy', 'Matched_Pet_Cosine': 'Egy', 'L2_Distance': 0.0, 'Cosine_Similarity': 1.0003225, 'Image_URL_L2': 'https://www.psidetektiv.cz/data/catalog/big/2024/12/21/img190381.jpg', 'Image_URL_Cosine': 'https://www.psidetektiv.cz/data/catalog/big/2024/12/21/img190381.jpg'}\n",
            "{'Rank': 2, 'Test_Pet': 'Egy', 'Matched_Pet_L2': 'Pedro', 'Matched_Pet_Cosine': 'Pedro', 'L2_Distance': 7899.777, 'Cosine_Similarity': 0.8733772, 'Image_URL_L2': 'https://www.psidetektiv.cz/data/catalog/big/2024/12/17/img190107.jpg', 'Image_URL_Cosine': 'https://www.psidetektiv.cz/data/catalog/big/2024/12/17/img190103.jpg'}\n",
            "{'Rank': 3, 'Test_Pet': 'Egy', 'Matched_Pet_L2': 'Haily', 'Matched_Pet_Cosine': 'Urri', 'L2_Distance': 8282.432, 'Cosine_Similarity': 0.8606353, 'Image_URL_L2': 'https://www.psidetektiv.cz/data/catalog/big/2024/12/21/img190383.jpg', 'Image_URL_Cosine': 'https://www.psidetektiv.cz/data/catalog/big/2024/12/20/img190257.jpg'}\n",
            "{'Rank': 4, 'Test_Pet': 'Egy', 'Matched_Pet_L2': 'Adolf', 'Matched_Pet_Cosine': 'Adolf', 'L2_Distance': 9628.6, 'Cosine_Similarity': 0.8601519, 'Image_URL_L2': 'https://www.psidetektiv.cz/data/catalog/big/2024/12/17/img190086.jpg', 'Image_URL_Cosine': 'https://www.psidetektiv.cz/data/catalog/big/2024/12/17/img190085.jpg'}\n",
            "{'Rank': 5, 'Test_Pet': 'Egy', 'Matched_Pet_L2': 'Egy', 'Matched_Pet_Cosine': 'Adolf', 'L2_Distance': 9730.38, 'Cosine_Similarity': 0.85833126, 'Image_URL_L2': 'https://www.psidetektiv.cz/data/catalog/big/2024/12/21/img190379.jpg', 'Image_URL_Cosine': 'https://www.psidetektiv.cz/data/catalog/big/2024/12/17/img190084.jpg'}\n",
            "Cosine - Precision@5: 0.2000, Recall@5: 1.0000, F1@5: 0.3333\n",
            "L2 - Precision@5: 0.4000, Recall@5: 2.0000, F1@5: 0.6667\n",
            "\n",
            "Tested Pet: Randy\n",
            "{'Rank': 1, 'Test_Pet': 'Randy', 'Matched_Pet_L2': 'Randy', 'Matched_Pet_Cosine': 'Randy', 'L2_Distance': 0.0, 'Cosine_Similarity': 0.99999225, 'Image_URL_L2': 'https://www.psidetektiv.cz/data/catalog/big/2024/12/21/img190368.jpg', 'Image_URL_Cosine': 'https://www.psidetektiv.cz/data/catalog/big/2024/12/21/img190368.jpg'}\n",
            "{'Rank': 2, 'Test_Pet': 'Randy', 'Matched_Pet_L2': 'Terina', 'Matched_Pet_Cosine': 'Lily', 'L2_Distance': 10753.58, 'Cosine_Similarity': 0.9003333, 'Image_URL_L2': 'https://www.psidetektiv.cz/data/catalog/big/2024/12/17/img190110.jpg', 'Image_URL_Cosine': 'https://www.psidetektiv.cz/data/catalog/big/2024/12/19/img190244.jpg'}\n",
            "{'Rank': 3, 'Test_Pet': 'Randy', 'Matched_Pet_L2': 'Egy', 'Matched_Pet_Cosine': 'Adolf', 'L2_Distance': 10759.494, 'Cosine_Similarity': 0.8982713, 'Image_URL_L2': 'https://www.psidetektiv.cz/data/catalog/big/2024/12/21/img190378.jpg', 'Image_URL_Cosine': 'https://www.psidetektiv.cz/data/catalog/big/2024/12/17/img190085.jpg'}\n",
            "{'Rank': 4, 'Test_Pet': 'Randy', 'Matched_Pet_L2': 'Randy', 'Matched_Pet_Cosine': 'Lily', 'L2_Distance': 10987.186, 'Cosine_Similarity': 0.89234406, 'Image_URL_L2': 'https://www.psidetektiv.cz/data/catalog/big/2024/12/21/img190367.jpg', 'Image_URL_Cosine': 'https://www.psidetektiv.cz/data/catalog/big/2024/12/19/img190243.jpg'}\n",
            "{'Rank': 5, 'Test_Pet': 'Randy', 'Matched_Pet_L2': 'Terina', 'Matched_Pet_Cosine': 'Terina', 'L2_Distance': 11294.399, 'Cosine_Similarity': 0.8892663, 'Image_URL_L2': 'https://www.psidetektiv.cz/data/catalog/big/2024/12/17/img190111.jpg', 'Image_URL_Cosine': 'https://www.psidetektiv.cz/data/catalog/big/2024/12/17/img190110.jpg'}\n",
            "Cosine - Precision@5: 0.2000, Recall@5: 1.0000, F1@5: 0.3333\n",
            "L2 - Precision@5: 0.4000, Recall@5: 2.0000, F1@5: 0.6667\n",
            "\n",
            "Tested Pet: Alfík\n",
            "{'Rank': 1, 'Test_Pet': 'Alfík', 'Matched_Pet_L2': 'Alfík', 'Matched_Pet_Cosine': 'Alfík', 'L2_Distance': 0.0, 'Cosine_Similarity': 0.9997879, 'Image_URL_L2': 'https://www.psidetektiv.cz/data/catalog/big/2024/12/20/img190321.jpg', 'Image_URL_Cosine': 'https://www.psidetektiv.cz/data/catalog/big/2024/12/20/img190321.jpg'}\n",
            "{'Rank': 2, 'Test_Pet': 'Alfík', 'Matched_Pet_L2': 'Ira', 'Matched_Pet_Cosine': 'Lily', 'L2_Distance': 10404.541, 'Cosine_Similarity': 0.8178048, 'Image_URL_L2': 'https://www.psidetektiv.cz/data/catalog/big/2024/12/17/img190089.jpg', 'Image_URL_Cosine': 'https://www.psidetektiv.cz/data/catalog/big/2024/12/19/img190243.jpg'}\n",
            "{'Rank': 3, 'Test_Pet': 'Alfík', 'Matched_Pet_L2': 'Tanyny', 'Matched_Pet_Cosine': 'Alfík', 'L2_Distance': 10764.329, 'Cosine_Similarity': 0.7779674, 'Image_URL_L2': 'https://www.psidetektiv.cz/data/catalog/big/2024/12/22/img190390.jpg', 'Image_URL_Cosine': 'https://www.psidetektiv.cz/data/catalog/big/2024/12/20/img190320.jpg'}\n",
            "{'Rank': 4, 'Test_Pet': 'Alfík', 'Matched_Pet_L2': 'Haily', 'Matched_Pet_Cosine': 'Terina', 'L2_Distance': 10872.28, 'Cosine_Similarity': 0.7739684, 'Image_URL_L2': 'https://www.psidetektiv.cz/data/catalog/big/2024/12/21/img190383.jpg', 'Image_URL_Cosine': 'https://www.psidetektiv.cz/data/catalog/big/2024/12/17/img190110.jpg'}\n",
            "{'Rank': 5, 'Test_Pet': 'Alfík', 'Matched_Pet_L2': 'Ira', 'Matched_Pet_Cosine': 'Juicy', 'L2_Distance': 11113.887, 'Cosine_Similarity': 0.7711107, 'Image_URL_L2': 'https://www.psidetektiv.cz/data/catalog/big/2024/12/17/img190088.jpg', 'Image_URL_Cosine': 'https://www.psidetektiv.cz/data/catalog/big/2024/12/20/img190295.jpg'}\n",
            "Cosine - Precision@5: 0.4000, Recall@5: 2.0000, F1@5: 0.6667\n",
            "L2 - Precision@5: 0.2000, Recall@5: 1.0000, F1@5: 0.3333\n",
            "\n",
            "Tested Pet: Juicy\n",
            "{'Rank': 1, 'Test_Pet': 'Juicy', 'Matched_Pet_L2': 'Juicy', 'Matched_Pet_Cosine': 'Juicy', 'L2_Distance': 0.0, 'Cosine_Similarity': 1.0000201, 'Image_URL_L2': 'https://www.psidetektiv.cz/data/catalog/big/2024/12/20/img190295.jpg', 'Image_URL_Cosine': 'https://www.psidetektiv.cz/data/catalog/big/2024/12/20/img190295.jpg'}\n",
            "{'Rank': 2, 'Test_Pet': 'Juicy', 'Matched_Pet_L2': 'Alfík', 'Matched_Pet_Cosine': 'Urri', 'L2_Distance': 15165.536, 'Cosine_Similarity': 0.87881076, 'Image_URL_L2': 'https://www.psidetektiv.cz/data/catalog/big/2024/12/20/img190320.jpg', 'Image_URL_Cosine': 'https://www.psidetektiv.cz/data/catalog/big/2024/12/20/img190256.jpg'}\n",
            "{'Rank': 3, 'Test_Pet': 'Juicy', 'Matched_Pet_L2': 'Terina', 'Matched_Pet_Cosine': 'Alfík', 'L2_Distance': 15385.671, 'Cosine_Similarity': 0.8727244, 'Image_URL_L2': 'https://www.psidetektiv.cz/data/catalog/big/2024/12/17/img190110.jpg', 'Image_URL_Cosine': 'https://www.psidetektiv.cz/data/catalog/big/2024/12/20/img190320.jpg'}\n",
            "{'Rank': 4, 'Test_Pet': 'Juicy', 'Matched_Pet_L2': 'Adolf', 'Matched_Pet_Cosine': 'Terina', 'L2_Distance': 16440.955, 'Cosine_Similarity': 0.87090844, 'Image_URL_L2': 'https://www.psidetektiv.cz/data/catalog/big/2024/12/17/img190085.jpg', 'Image_URL_Cosine': 'https://www.psidetektiv.cz/data/catalog/big/2024/12/17/img190110.jpg'}\n",
            "{'Rank': 5, 'Test_Pet': 'Juicy', 'Matched_Pet_L2': 'Lily', 'Matched_Pet_Cosine': 'Adolf', 'L2_Distance': 16862.822, 'Cosine_Similarity': 0.8670746, 'Image_URL_L2': 'https://www.psidetektiv.cz/data/catalog/big/2024/12/19/img190244.jpg', 'Image_URL_Cosine': 'https://www.psidetektiv.cz/data/catalog/big/2024/12/17/img190085.jpg'}\n",
            "Cosine - Precision@5: 0.2000, Recall@5: 1.0000, F1@5: 0.3333\n",
            "L2 - Precision@5: 0.2000, Recall@5: 1.0000, F1@5: 0.3333\n",
            "\n",
            "Tested Pet: Urri\n",
            "{'Rank': 1, 'Test_Pet': 'Urri', 'Matched_Pet_L2': 'Urri', 'Matched_Pet_Cosine': 'Urri', 'L2_Distance': 0.0, 'Cosine_Similarity': 1.0000964, 'Image_URL_L2': 'https://www.psidetektiv.cz/data/catalog/big/2024/12/20/img190258.jpg', 'Image_URL_Cosine': 'https://www.psidetektiv.cz/data/catalog/big/2024/12/20/img190258.jpg'}\n",
            "{'Rank': 2, 'Test_Pet': 'Urri', 'Matched_Pet_L2': 'Adolf', 'Matched_Pet_Cosine': 'Adolf', 'L2_Distance': 6190.2153, 'Cosine_Similarity': 0.9537641, 'Image_URL_L2': 'https://www.psidetektiv.cz/data/catalog/big/2024/12/17/img190085.jpg', 'Image_URL_Cosine': 'https://www.psidetektiv.cz/data/catalog/big/2024/12/17/img190085.jpg'}\n",
            "{'Rank': 3, 'Test_Pet': 'Urri', 'Matched_Pet_L2': 'Lily', 'Matched_Pet_Cosine': 'Urri', 'L2_Distance': 8356.39, 'Cosine_Similarity': 0.941282, 'Image_URL_L2': 'https://www.psidetektiv.cz/data/catalog/big/2024/12/19/img190244.jpg', 'Image_URL_Cosine': 'https://www.psidetektiv.cz/data/catalog/big/2024/12/20/img190256.jpg'}\n",
            "{'Rank': 4, 'Test_Pet': 'Urri', 'Matched_Pet_L2': 'Urri', 'Matched_Pet_Cosine': 'Lily', 'L2_Distance': 8701.528, 'Cosine_Similarity': 0.93688965, 'Image_URL_L2': 'https://www.psidetektiv.cz/data/catalog/big/2024/12/20/img190256.jpg', 'Image_URL_Cosine': 'https://www.psidetektiv.cz/data/catalog/big/2024/12/19/img190244.jpg'}\n",
            "{'Rank': 5, 'Test_Pet': 'Urri', 'Matched_Pet_L2': 'Urri', 'Matched_Pet_Cosine': 'Urri', 'L2_Distance': 9894.62, 'Cosine_Similarity': 0.9337139, 'Image_URL_L2': 'https://www.psidetektiv.cz/data/catalog/big/2024/12/20/img190257.jpg', 'Image_URL_Cosine': 'https://www.psidetektiv.cz/data/catalog/big/2024/12/20/img190257.jpg'}\n",
            "Cosine - Precision@5: 0.6000, Recall@5: 3.0000, F1@5: 1.0000\n",
            "L2 - Precision@5: 0.6000, Recall@5: 3.0000, F1@5: 1.0000\n",
            "\n",
            "Tested Pet: Lily\n",
            "{'Rank': 1, 'Test_Pet': 'Lily', 'Matched_Pet_L2': 'Lily', 'Matched_Pet_Cosine': 'Lily', 'L2_Distance': 0.0, 'Cosine_Similarity': 1.0000567, 'Image_URL_L2': 'https://www.psidetektiv.cz/data/catalog/big/2024/12/19/img190244.jpg', 'Image_URL_Cosine': 'https://www.psidetektiv.cz/data/catalog/big/2024/12/19/img190244.jpg'}\n",
            "{'Rank': 2, 'Test_Pet': 'Lily', 'Matched_Pet_L2': 'Adolf', 'Matched_Pet_Cosine': 'Adolf', 'L2_Distance': 5498.594, 'Cosine_Similarity': 0.95469224, 'Image_URL_L2': 'https://www.psidetektiv.cz/data/catalog/big/2024/12/17/img190085.jpg', 'Image_URL_Cosine': 'https://www.psidetektiv.cz/data/catalog/big/2024/12/17/img190085.jpg'}\n",
            "{'Rank': 3, 'Test_Pet': 'Lily', 'Matched_Pet_L2': 'Terina', 'Matched_Pet_Cosine': 'Terina', 'L2_Distance': 6331.277, 'Cosine_Similarity': 0.94752353, 'Image_URL_L2': 'https://www.psidetektiv.cz/data/catalog/big/2024/12/17/img190110.jpg', 'Image_URL_Cosine': 'https://www.psidetektiv.cz/data/catalog/big/2024/12/17/img190110.jpg'}\n",
            "{'Rank': 4, 'Test_Pet': 'Lily', 'Matched_Pet_L2': 'Urri', 'Matched_Pet_Cosine': 'Urri', 'L2_Distance': 8356.39, 'Cosine_Similarity': 0.94213516, 'Image_URL_L2': 'https://www.psidetektiv.cz/data/catalog/big/2024/12/20/img190258.jpg', 'Image_URL_Cosine': 'https://www.psidetektiv.cz/data/catalog/big/2024/12/20/img190257.jpg'}\n",
            "{'Rank': 5, 'Test_Pet': 'Lily', 'Matched_Pet_L2': 'Lily', 'Matched_Pet_Cosine': 'Urri', 'L2_Distance': 8450.334, 'Cosine_Similarity': 0.93688965, 'Image_URL_L2': 'https://www.psidetektiv.cz/data/catalog/big/2024/12/19/img190243.jpg', 'Image_URL_Cosine': 'https://www.psidetektiv.cz/data/catalog/big/2024/12/20/img190258.jpg'}\n",
            "Cosine - Precision@5: 0.2000, Recall@5: 1.0000, F1@5: 0.3333\n",
            "L2 - Precision@5: 0.4000, Recall@5: 2.0000, F1@5: 0.6667\n",
            "\n",
            "Tested Pet: Užovka\n",
            "{'Rank': 1, 'Test_Pet': 'Užovka', 'Matched_Pet_L2': 'Užovka', 'Matched_Pet_Cosine': 'Užovka', 'L2_Distance': 0.0, 'Cosine_Similarity': 1.0000603, 'Image_URL_L2': 'https://www.psidetektiv.cz/data/catalog/big/2024/12/19/img190238.jpg', 'Image_URL_Cosine': 'https://www.psidetektiv.cz/data/catalog/big/2024/12/19/img190238.jpg'}\n",
            "{'Rank': 2, 'Test_Pet': 'Užovka', 'Matched_Pet_L2': 'Tanyny', 'Matched_Pet_Cosine': 'Lily', 'L2_Distance': 15752.138, 'Cosine_Similarity': 0.8049239, 'Image_URL_L2': 'https://www.psidetektiv.cz/data/catalog/big/2024/12/22/img190394.jpg', 'Image_URL_Cosine': 'https://www.psidetektiv.cz/data/catalog/big/2024/12/19/img190244.jpg'}\n",
            "{'Rank': 3, 'Test_Pet': 'Užovka', 'Matched_Pet_L2': 'Rey', 'Matched_Pet_Cosine': 'Terina', 'L2_Distance': 16205.236, 'Cosine_Similarity': 0.80015045, 'Image_URL_L2': 'https://www.psidetektiv.cz/data/catalog/big/2024/12/19/img190208.jpg', 'Image_URL_Cosine': 'https://www.psidetektiv.cz/data/catalog/big/2024/12/17/img190110.jpg'}\n",
            "{'Rank': 4, 'Test_Pet': 'Užovka', 'Matched_Pet_L2': 'Terina', 'Matched_Pet_Cosine': 'Urri', 'L2_Distance': 16905.348, 'Cosine_Similarity': 0.7944075, 'Image_URL_L2': 'https://www.psidetektiv.cz/data/catalog/big/2024/12/17/img190111.jpg', 'Image_URL_Cosine': 'https://www.psidetektiv.cz/data/catalog/big/2024/12/20/img190257.jpg'}\n",
            "{'Rank': 5, 'Test_Pet': 'Užovka', 'Matched_Pet_L2': 'Želva', 'Matched_Pet_Cosine': 'Urri', 'L2_Distance': 17420.62, 'Cosine_Similarity': 0.7923618, 'Image_URL_L2': 'https://www.psidetektiv.cz/data/catalog/big/2024/12/19/img190186.jpg', 'Image_URL_Cosine': 'https://www.psidetektiv.cz/data/catalog/big/2024/12/20/img190258.jpg'}\n",
            "Cosine - Precision@5: 0.2000, Recall@5: 1.0000, F1@5: 0.3333\n",
            "L2 - Precision@5: 0.2000, Recall@5: 1.0000, F1@5: 0.3333\n",
            "\n",
            "Tested Pet: Endy\n",
            "{'Rank': 1, 'Test_Pet': 'Endy', 'Matched_Pet_L2': 'Endy', 'Matched_Pet_Cosine': 'Endy', 'L2_Distance': 0.0, 'Cosine_Similarity': 0.99973214, 'Image_URL_L2': 'https://www.psidetektiv.cz/data/catalog/big/2024/12/19/img190218.jpg', 'Image_URL_Cosine': 'https://www.psidetektiv.cz/data/catalog/big/2024/12/19/img190221.jpg'}\n",
            "{'Rank': 2, 'Test_Pet': 'Endy', 'Matched_Pet_L2': 'Endy', 'Matched_Pet_Cosine': 'Endy', 'L2_Distance': 0.0, 'Cosine_Similarity': 0.99973214, 'Image_URL_L2': 'https://www.psidetektiv.cz/data/catalog/big/2024/12/19/img190221.jpg', 'Image_URL_Cosine': 'https://www.psidetektiv.cz/data/catalog/big/2024/12/19/img190218.jpg'}\n",
            "{'Rank': 3, 'Test_Pet': 'Endy', 'Matched_Pet_L2': 'Tanyny', 'Matched_Pet_Cosine': 'Tanyny', 'L2_Distance': 5977.1484, 'Cosine_Similarity': 0.8173616, 'Image_URL_L2': 'https://www.psidetektiv.cz/data/catalog/big/2024/12/22/img190391.jpg', 'Image_URL_Cosine': 'https://www.psidetektiv.cz/data/catalog/big/2024/12/22/img190394.jpg'}\n",
            "{'Rank': 4, 'Test_Pet': 'Endy', 'Matched_Pet_L2': 'Tanyny', 'Matched_Pet_Cosine': 'Tanyny', 'L2_Distance': 8884.556, 'Cosine_Similarity': 0.8121084, 'Image_URL_L2': 'https://www.psidetektiv.cz/data/catalog/big/2024/12/22/img190394.jpg', 'Image_URL_Cosine': 'https://www.psidetektiv.cz/data/catalog/big/2024/12/22/img190391.jpg'}\n",
            "{'Rank': 5, 'Test_Pet': 'Endy', 'Matched_Pet_L2': 'Želva', 'Matched_Pet_Cosine': 'Želva', 'L2_Distance': 9306.163, 'Cosine_Similarity': 0.7967175, 'Image_URL_L2': 'https://www.psidetektiv.cz/data/catalog/big/2024/12/19/img190186.jpg', 'Image_URL_Cosine': 'https://www.psidetektiv.cz/data/catalog/big/2024/12/19/img190186.jpg'}\n",
            "Cosine - Precision@5: 0.4000, Recall@5: 2.0000, F1@5: 0.6667\n",
            "L2 - Precision@5: 0.4000, Recall@5: 2.0000, F1@5: 0.6667\n",
            "\n",
            "Tested Pet: Gigy\n",
            "{'Rank': 1, 'Test_Pet': 'Gigy', 'Matched_Pet_L2': 'Gigy', 'Matched_Pet_Cosine': 'Gigy', 'L2_Distance': 0.0, 'Cosine_Similarity': 0.99996006, 'Image_URL_L2': 'https://www.psidetektiv.cz/data/catalog/big/2024/12/19/img190212.jpg', 'Image_URL_Cosine': 'https://www.psidetektiv.cz/data/catalog/big/2024/12/19/img190212.jpg'}\n",
            "{'Rank': 2, 'Test_Pet': 'Gigy', 'Matched_Pet_L2': 'Tanyny', 'Matched_Pet_Cosine': 'Lily', 'L2_Distance': 7497.7905, 'Cosine_Similarity': 0.7920547, 'Image_URL_L2': 'https://www.psidetektiv.cz/data/catalog/big/2024/12/22/img190390.jpg', 'Image_URL_Cosine': 'https://www.psidetektiv.cz/data/catalog/big/2024/12/19/img190243.jpg'}\n",
            "{'Rank': 3, 'Test_Pet': 'Gigy', 'Matched_Pet_L2': 'Pedro', 'Matched_Pet_Cosine': 'Lily', 'L2_Distance': 8620.975, 'Cosine_Similarity': 0.79176193, 'Image_URL_L2': 'https://www.psidetektiv.cz/data/catalog/big/2024/12/17/img190107.jpg', 'Image_URL_Cosine': 'https://www.psidetektiv.cz/data/catalog/big/2024/12/19/img190244.jpg'}\n",
            "{'Rank': 4, 'Test_Pet': 'Gigy', 'Matched_Pet_L2': 'Haily', 'Matched_Pet_Cosine': 'Adolf', 'L2_Distance': 9032.931, 'Cosine_Similarity': 0.7895365, 'Image_URL_L2': 'https://www.psidetektiv.cz/data/catalog/big/2024/12/21/img190383.jpg', 'Image_URL_Cosine': 'https://www.psidetektiv.cz/data/catalog/big/2024/12/17/img190085.jpg'}\n",
            "{'Rank': 5, 'Test_Pet': 'Gigy', 'Matched_Pet_L2': 'Tanyny', 'Matched_Pet_Cosine': 'Terina', 'L2_Distance': 9185.937, 'Cosine_Similarity': 0.7892009, 'Image_URL_L2': 'https://www.psidetektiv.cz/data/catalog/big/2024/12/22/img190391.jpg', 'Image_URL_Cosine': 'https://www.psidetektiv.cz/data/catalog/big/2024/12/17/img190111.jpg'}\n",
            "Cosine - Precision@5: 0.2000, Recall@5: 1.0000, F1@5: 0.3333\n",
            "L2 - Precision@5: 0.2000, Recall@5: 1.0000, F1@5: 0.3333\n",
            "\n",
            "Tested Pet: Rey\n",
            "{'Rank': 1, 'Test_Pet': 'Rey', 'Matched_Pet_L2': 'Rey', 'Matched_Pet_Cosine': 'Rey', 'L2_Distance': 0.0, 'Cosine_Similarity': 0.99989074, 'Image_URL_L2': 'https://www.psidetektiv.cz/data/catalog/big/2024/12/19/img190209.jpg', 'Image_URL_Cosine': 'https://www.psidetektiv.cz/data/catalog/big/2024/12/19/img190209.jpg'}\n",
            "{'Rank': 2, 'Test_Pet': 'Rey', 'Matched_Pet_L2': 'Egy', 'Matched_Pet_Cosine': 'Adolf', 'L2_Distance': 10925.502, 'Cosine_Similarity': 0.89334226, 'Image_URL_L2': 'https://www.psidetektiv.cz/data/catalog/big/2024/12/21/img190378.jpg', 'Image_URL_Cosine': 'https://www.psidetektiv.cz/data/catalog/big/2024/12/17/img190085.jpg'}\n",
            "{'Rank': 3, 'Test_Pet': 'Rey', 'Matched_Pet_L2': 'Egy', 'Matched_Pet_Cosine': 'Urri', 'L2_Distance': 11136.111, 'Cosine_Similarity': 0.88604045, 'Image_URL_L2': 'https://www.psidetektiv.cz/data/catalog/big/2024/12/21/img190380.jpg', 'Image_URL_Cosine': 'https://www.psidetektiv.cz/data/catalog/big/2024/12/20/img190258.jpg'}\n",
            "{'Rank': 4, 'Test_Pet': 'Rey', 'Matched_Pet_L2': 'Želva', 'Matched_Pet_Cosine': 'Urri', 'L2_Distance': 12278.194, 'Cosine_Similarity': 0.88184685, 'Image_URL_L2': 'https://www.psidetektiv.cz/data/catalog/big/2024/12/19/img190185.jpg', 'Image_URL_Cosine': 'https://www.psidetektiv.cz/data/catalog/big/2024/12/20/img190256.jpg'}\n",
            "{'Rank': 5, 'Test_Pet': 'Rey', 'Matched_Pet_L2': 'Haily', 'Matched_Pet_Cosine': 'Lily', 'L2_Distance': 12489.785, 'Cosine_Similarity': 0.8774994, 'Image_URL_L2': 'https://www.psidetektiv.cz/data/catalog/big/2024/12/21/img190383.jpg', 'Image_URL_Cosine': 'https://www.psidetektiv.cz/data/catalog/big/2024/12/19/img190244.jpg'}\n",
            "Cosine - Precision@5: 0.2000, Recall@5: 1.0000, F1@5: 0.3333\n",
            "L2 - Precision@5: 0.2000, Recall@5: 1.0000, F1@5: 0.3333\n",
            "\n",
            "Tested Pet: Želva\n",
            "{'Rank': 1, 'Test_Pet': 'Želva', 'Matched_Pet_L2': 'Želva', 'Matched_Pet_Cosine': 'Želva', 'L2_Distance': 0.0, 'Cosine_Similarity': 0.9998797, 'Image_URL_L2': 'https://www.psidetektiv.cz/data/catalog/big/2024/12/19/img190186.jpg', 'Image_URL_Cosine': 'https://www.psidetektiv.cz/data/catalog/big/2024/12/19/img190186.jpg'}\n",
            "{'Rank': 2, 'Test_Pet': 'Želva', 'Matched_Pet_L2': 'Tanyny', 'Matched_Pet_Cosine': 'Tanyny', 'L2_Distance': 7621.1436, 'Cosine_Similarity': 0.85417724, 'Image_URL_L2': 'https://www.psidetektiv.cz/data/catalog/big/2024/12/22/img190394.jpg', 'Image_URL_Cosine': 'https://www.psidetektiv.cz/data/catalog/big/2024/12/22/img190394.jpg'}\n",
            "{'Rank': 3, 'Test_Pet': 'Želva', 'Matched_Pet_L2': 'Endy', 'Matched_Pet_Cosine': 'Terina', 'L2_Distance': 9306.163, 'Cosine_Similarity': 0.8499713, 'Image_URL_L2': 'https://www.psidetektiv.cz/data/catalog/big/2024/12/19/img190221.jpg', 'Image_URL_Cosine': 'https://www.psidetektiv.cz/data/catalog/big/2024/12/17/img190110.jpg'}\n",
            "{'Rank': 4, 'Test_Pet': 'Želva', 'Matched_Pet_L2': 'Endy', 'Matched_Pet_Cosine': 'Tanyny', 'L2_Distance': 9306.163, 'Cosine_Similarity': 0.8417417, 'Image_URL_L2': 'https://www.psidetektiv.cz/data/catalog/big/2024/12/19/img190218.jpg', 'Image_URL_Cosine': 'https://www.psidetektiv.cz/data/catalog/big/2024/12/22/img190392.jpg'}\n",
            "{'Rank': 5, 'Test_Pet': 'Želva', 'Matched_Pet_L2': 'Ira', 'Matched_Pet_Cosine': 'Lily', 'L2_Distance': 10887.953, 'Cosine_Similarity': 0.83483046, 'Image_URL_L2': 'https://www.psidetektiv.cz/data/catalog/big/2024/12/17/img190089.jpg', 'Image_URL_Cosine': 'https://www.psidetektiv.cz/data/catalog/big/2024/12/19/img190243.jpg'}\n",
            "Cosine - Precision@5: 0.2000, Recall@5: 1.0000, F1@5: 0.3333\n",
            "L2 - Precision@5: 0.2000, Recall@5: 1.0000, F1@5: 0.3333\n",
            "\n",
            "Tested Pet: Terina\n",
            "{'Rank': 1, 'Test_Pet': 'Terina', 'Matched_Pet_L2': 'Terina', 'Matched_Pet_Cosine': 'Terina', 'L2_Distance': 0.0, 'Cosine_Similarity': 1.0000672, 'Image_URL_L2': 'https://www.psidetektiv.cz/data/catalog/big/2024/12/17/img190111.jpg', 'Image_URL_Cosine': 'https://www.psidetektiv.cz/data/catalog/big/2024/12/17/img190111.jpg'}\n",
            "{'Rank': 2, 'Test_Pet': 'Terina', 'Matched_Pet_L2': 'Terina', 'Matched_Pet_Cosine': 'Terina', 'L2_Distance': 8213.084, 'Cosine_Similarity': 0.91708255, 'Image_URL_L2': 'https://www.psidetektiv.cz/data/catalog/big/2024/12/17/img190110.jpg', 'Image_URL_Cosine': 'https://www.psidetektiv.cz/data/catalog/big/2024/12/17/img190110.jpg'}\n",
            "{'Rank': 3, 'Test_Pet': 'Terina', 'Matched_Pet_L2': 'Egy', 'Matched_Pet_Cosine': 'Lily', 'L2_Distance': 9813.112, 'Cosine_Similarity': 0.9125808, 'Image_URL_L2': 'https://www.psidetektiv.cz/data/catalog/big/2024/12/21/img190378.jpg', 'Image_URL_Cosine': 'https://www.psidetektiv.cz/data/catalog/big/2024/12/19/img190244.jpg'}\n",
            "{'Rank': 4, 'Test_Pet': 'Terina', 'Matched_Pet_L2': 'Egy', 'Matched_Pet_Cosine': 'Adolf', 'L2_Distance': 9847.356, 'Cosine_Similarity': 0.9125076, 'Image_URL_L2': 'https://www.psidetektiv.cz/data/catalog/big/2024/12/21/img190380.jpg', 'Image_URL_Cosine': 'https://www.psidetektiv.cz/data/catalog/big/2024/12/17/img190085.jpg'}\n",
            "{'Rank': 5, 'Test_Pet': 'Terina', 'Matched_Pet_L2': 'Adolf', 'Matched_Pet_Cosine': 'Urri', 'L2_Distance': 10493.462, 'Cosine_Similarity': 0.9042072, 'Image_URL_L2': 'https://www.psidetektiv.cz/data/catalog/big/2024/12/17/img190085.jpg', 'Image_URL_Cosine': 'https://www.psidetektiv.cz/data/catalog/big/2024/12/20/img190257.jpg'}\n",
            "Cosine - Precision@5: 0.4000, Recall@5: 2.0000, F1@5: 0.6667\n",
            "L2 - Precision@5: 0.4000, Recall@5: 2.0000, F1@5: 0.6667\n",
            "\n",
            "Tested Pet: Pedro\n",
            "{'Rank': 1, 'Test_Pet': 'Pedro', 'Matched_Pet_L2': 'Pedro', 'Matched_Pet_Cosine': 'Pedro', 'L2_Distance': 0.0, 'Cosine_Similarity': 1.0000002, 'Image_URL_L2': 'https://www.psidetektiv.cz/data/catalog/big/2024/12/17/img190108.jpg', 'Image_URL_Cosine': 'https://www.psidetektiv.cz/data/catalog/big/2024/12/17/img190108.jpg'}\n",
            "{'Rank': 2, 'Test_Pet': 'Pedro', 'Matched_Pet_L2': 'Pedro', 'Matched_Pet_Cosine': 'Lily', 'L2_Distance': 15851.639, 'Cosine_Similarity': 0.83664906, 'Image_URL_L2': 'https://www.psidetektiv.cz/data/catalog/big/2024/12/17/img190103.jpg', 'Image_URL_Cosine': 'https://www.psidetektiv.cz/data/catalog/big/2024/12/19/img190244.jpg'}\n",
            "{'Rank': 3, 'Test_Pet': 'Pedro', 'Matched_Pet_L2': 'Terina', 'Matched_Pet_Cosine': 'Urri', 'L2_Distance': 16453.11, 'Cosine_Similarity': 0.83659923, 'Image_URL_L2': 'https://www.psidetektiv.cz/data/catalog/big/2024/12/17/img190111.jpg', 'Image_URL_Cosine': 'https://www.psidetektiv.cz/data/catalog/big/2024/12/20/img190257.jpg'}\n",
            "{'Rank': 4, 'Test_Pet': 'Pedro', 'Matched_Pet_L2': 'Rey', 'Matched_Pet_Cosine': 'Adolf', 'L2_Distance': 16565.53, 'Cosine_Similarity': 0.8215029, 'Image_URL_L2': 'https://www.psidetektiv.cz/data/catalog/big/2024/12/19/img190208.jpg', 'Image_URL_Cosine': 'https://www.psidetektiv.cz/data/catalog/big/2024/12/17/img190085.jpg'}\n",
            "{'Rank': 5, 'Test_Pet': 'Pedro', 'Matched_Pet_L2': 'Egy', 'Matched_Pet_Cosine': 'Terina', 'L2_Distance': 16628.754, 'Cosine_Similarity': 0.81913066, 'Image_URL_L2': 'https://www.psidetektiv.cz/data/catalog/big/2024/12/21/img190381.jpg', 'Image_URL_Cosine': 'https://www.psidetektiv.cz/data/catalog/big/2024/12/17/img190110.jpg'}\n",
            "Cosine - Precision@5: 0.2000, Recall@5: 1.0000, F1@5: 0.3333\n",
            "L2 - Precision@5: 0.4000, Recall@5: 2.0000, F1@5: 0.6667\n",
            "\n",
            "Tested Pet: Ira\n",
            "{'Rank': 1, 'Test_Pet': 'Ira', 'Matched_Pet_L2': 'Ira', 'Matched_Pet_Cosine': 'Ira', 'L2_Distance': 0.0, 'Cosine_Similarity': 1.000016, 'Image_URL_L2': 'https://www.psidetektiv.cz/data/catalog/big/2024/12/17/img190089.jpg', 'Image_URL_Cosine': 'https://www.psidetektiv.cz/data/catalog/big/2024/12/17/img190089.jpg'}\n",
            "{'Rank': 2, 'Test_Pet': 'Ira', 'Matched_Pet_L2': 'Haily', 'Matched_Pet_Cosine': 'Juicy', 'L2_Distance': 8085.7046, 'Cosine_Similarity': 0.83725625, 'Image_URL_L2': 'https://www.psidetektiv.cz/data/catalog/big/2024/12/21/img190383.jpg', 'Image_URL_Cosine': 'https://www.psidetektiv.cz/data/catalog/big/2024/12/20/img190295.jpg'}\n",
            "{'Rank': 3, 'Test_Pet': 'Ira', 'Matched_Pet_L2': 'Tanyny', 'Matched_Pet_Cosine': 'Urri', 'L2_Distance': 8158.6216, 'Cosine_Similarity': 0.8371993, 'Image_URL_L2': 'https://www.psidetektiv.cz/data/catalog/big/2024/12/22/img190390.jpg', 'Image_URL_Cosine': 'https://www.psidetektiv.cz/data/catalog/big/2024/12/20/img190256.jpg'}\n",
            "{'Rank': 4, 'Test_Pet': 'Ira', 'Matched_Pet_L2': 'Ira', 'Matched_Pet_Cosine': 'Terina', 'L2_Distance': 9622.179, 'Cosine_Similarity': 0.8305298, 'Image_URL_L2': 'https://www.psidetektiv.cz/data/catalog/big/2024/12/17/img190088.jpg', 'Image_URL_Cosine': 'https://www.psidetektiv.cz/data/catalog/big/2024/12/17/img190110.jpg'}\n",
            "{'Rank': 5, 'Test_Pet': 'Ira', 'Matched_Pet_L2': 'Želva', 'Matched_Pet_Cosine': 'Lily', 'L2_Distance': 9724.616, 'Cosine_Similarity': 0.8279995, 'Image_URL_L2': 'https://www.psidetektiv.cz/data/catalog/big/2024/12/19/img190185.jpg', 'Image_URL_Cosine': 'https://www.psidetektiv.cz/data/catalog/big/2024/12/19/img190243.jpg'}\n",
            "Cosine - Precision@5: 0.2000, Recall@5: 1.0000, F1@5: 0.3333\n",
            "L2 - Precision@5: 0.4000, Recall@5: 2.0000, F1@5: 0.6667\n",
            "\n",
            "Tested Pet: Adolf\n",
            "{'Rank': 1, 'Test_Pet': 'Adolf', 'Matched_Pet_L2': 'Adolf', 'Matched_Pet_Cosine': 'Adolf', 'L2_Distance': 0.0, 'Cosine_Similarity': 0.99990785, 'Image_URL_L2': 'https://www.psidetektiv.cz/data/catalog/big/2024/12/17/img190086.jpg', 'Image_URL_Cosine': 'https://www.psidetektiv.cz/data/catalog/big/2024/12/17/img190086.jpg'}\n",
            "{'Rank': 2, 'Test_Pet': 'Adolf', 'Matched_Pet_L2': 'Egy', 'Matched_Pet_Cosine': 'Alfík', 'L2_Distance': 9628.6, 'Cosine_Similarity': 0.8316163, 'Image_URL_L2': 'https://www.psidetektiv.cz/data/catalog/big/2024/12/21/img190381.jpg', 'Image_URL_Cosine': 'https://www.psidetektiv.cz/data/catalog/big/2024/12/20/img190320.jpg'}\n",
            "{'Rank': 3, 'Test_Pet': 'Adolf', 'Matched_Pet_L2': 'Haily', 'Matched_Pet_Cosine': 'Egy', 'L2_Distance': 11958.689, 'Cosine_Similarity': 0.82047474, 'Image_URL_L2': 'https://www.psidetektiv.cz/data/catalog/big/2024/12/21/img190383.jpg', 'Image_URL_Cosine': 'https://www.psidetektiv.cz/data/catalog/big/2024/12/21/img190381.jpg'}\n",
            "{'Rank': 4, 'Test_Pet': 'Adolf', 'Matched_Pet_L2': 'Egy', 'Matched_Pet_Cosine': 'Pedro', 'L2_Distance': 12903.216, 'Cosine_Similarity': 0.81288606, 'Image_URL_L2': 'https://www.psidetektiv.cz/data/catalog/big/2024/12/21/img190379.jpg', 'Image_URL_Cosine': 'https://www.psidetektiv.cz/data/catalog/big/2024/12/17/img190103.jpg'}\n",
            "{'Rank': 5, 'Test_Pet': 'Adolf', 'Matched_Pet_L2': 'Pedro', 'Matched_Pet_Cosine': 'Egy', 'L2_Distance': 14305.879, 'Cosine_Similarity': 0.806244, 'Image_URL_L2': 'https://www.psidetektiv.cz/data/catalog/big/2024/12/17/img190105.jpg', 'Image_URL_Cosine': 'https://www.psidetektiv.cz/data/catalog/big/2024/12/21/img190379.jpg'}\n",
            "Cosine - Precision@5: 0.2000, Recall@5: 1.0000, F1@5: 0.3333\n",
            "L2 - Precision@5: 0.2000, Recall@5: 1.0000, F1@5: 0.3333\n",
            "\n",
            "=== Metrics per Pet ===\n",
            "   Pet_Name  Precision@5_Cosine  Recall@5_Cosine  F1@5_Cosine  Precision@5_L2  \\\n",
            "0    Tanyny                 0.6              3.0     1.000000             0.6   \n",
            "1     Haily                 0.2              1.0     0.333333             0.4   \n",
            "2       Egy                 0.2              1.0     0.333333             0.4   \n",
            "3     Randy                 0.2              1.0     0.333333             0.4   \n",
            "4     Alfík                 0.4              2.0     0.666667             0.2   \n",
            "5     Juicy                 0.2              1.0     0.333333             0.2   \n",
            "6      Urri                 0.6              3.0     1.000000             0.6   \n",
            "7      Lily                 0.2              1.0     0.333333             0.4   \n",
            "8    Užovka                 0.2              1.0     0.333333             0.2   \n",
            "9      Endy                 0.4              2.0     0.666667             0.4   \n",
            "10     Gigy                 0.2              1.0     0.333333             0.2   \n",
            "11      Rey                 0.2              1.0     0.333333             0.2   \n",
            "12    Želva                 0.2              1.0     0.333333             0.2   \n",
            "13   Terina                 0.4              2.0     0.666667             0.4   \n",
            "14    Pedro                 0.2              1.0     0.333333             0.4   \n",
            "15      Ira                 0.2              1.0     0.333333             0.4   \n",
            "16    Adolf                 0.2              1.0     0.333333             0.2   \n",
            "\n",
            "    Recall@5_L2   F1@5_L2  \n",
            "0           3.0  1.000000  \n",
            "1           2.0  0.666667  \n",
            "2           2.0  0.666667  \n",
            "3           2.0  0.666667  \n",
            "4           1.0  0.333333  \n",
            "5           1.0  0.333333  \n",
            "6           3.0  1.000000  \n",
            "7           2.0  0.666667  \n",
            "8           1.0  0.333333  \n",
            "9           2.0  0.666667  \n",
            "10          1.0  0.333333  \n",
            "11          1.0  0.333333  \n",
            "12          1.0  0.333333  \n",
            "13          2.0  0.666667  \n",
            "14          2.0  0.666667  \n",
            "15          2.0  0.666667  \n",
            "16          1.0  0.333333  \n",
            "\n",
            "=== Average Metrics ===\n",
            "               Metric   Average\n",
            "0  Precision@5_Cosine  0.282353\n",
            "1     Recall@5_Cosine  1.411765\n",
            "2         F1@5_Cosine  0.470588\n",
            "3      Precision@5_L2  0.341176\n",
            "4         Recall@5_L2  1.705882\n",
            "5             F1@5_L2  0.568627\n"
          ]
        }
      ]
    },
    {
      "cell_type": "markdown",
      "source": [
        "The average metrics show that the **L2 distance** method outperforms **cosine similarity** across all measures. **Precision** for **L2** is **0.34**, indicating that, on average, **1.7** images of the correct pet were returned in the top 5 results, with 1 image always being the test pet itself. Given these results, the **L2 method** should be preferred. The model will be further fine-tuned."
      ],
      "metadata": {
        "id": "YEAb35qj8BoP"
      }
    },
    {
      "cell_type": "code",
      "source": [
        "# data\n",
        "metrics_labels = ['Precision@5', 'Recall@5', 'F1@5']\n",
        "cosine_metrics = [\n",
        "    np.mean(metrics[\"Precision@5_Cosine\"]),\n",
        "    np.mean(metrics[\"Recall@5_Cosine\"]),\n",
        "    np.mean(metrics[\"F1@5_Cosine\"]),\n",
        "]\n",
        "l2_metrics = [\n",
        "    np.mean(metrics[\"Precision@5_L2\"]),\n",
        "    np.mean(metrics[\"Recall@5_L2\"]),\n",
        "    np.mean(metrics[\"F1@5_L2\"]),\n",
        "]\n",
        "\n",
        "# plot\n",
        "x = np.arange(len(metrics_labels))\n",
        "width = 0.3\n",
        "\n",
        "fig, ax = plt.subplots(figsize=(10, 6))\n",
        "\n",
        "cosine_color = 'blue'\n",
        "l2_color = 'purple'\n",
        "\n",
        "rects1 = ax.bar(x - width/2, cosine_metrics, width, label='Cosine', color=cosine_color)\n",
        "rects2 = ax.bar(x + width/2, l2_metrics, width, label='L2', color=l2_color)\n",
        "\n",
        "ax.set_xlabel('Metrics')\n",
        "ax.set_ylabel('Scores')\n",
        "ax.set_title('Average Precision, Recall, and F1 Scores at k=5 for Cosine and L2')\n",
        "ax.set_xticks(x)\n",
        "ax.set_xticklabels(metrics_labels)\n",
        "ax.legend()\n",
        "\n",
        "# values on bars\n",
        "def add_values(rects):\n",
        "    for rect in rects:\n",
        "        height = rect.get_height()\n",
        "        ax.annotate(f'{height:.4f}',\n",
        "                    xy=(rect.get_x() + rect.get_width() / 2, height),\n",
        "                    xytext=(0, 3),\n",
        "                    textcoords=\"offset points\",\n",
        "                    ha='center', va='bottom')\n",
        "\n",
        "add_values(rects1)\n",
        "add_values(rects2)\n",
        "\n",
        "plt.tight_layout()\n",
        "plt.show()\n"
      ],
      "metadata": {
        "colab": {
          "base_uri": "https://localhost:8080/",
          "height": 607
        },
        "id": "TcLEfJGrta5H",
        "outputId": "4e90c8a2-7c95-48db-b7f9-bfae89c69410"
      },
      "execution_count": 39,
      "outputs": [
        {
          "output_type": "display_data",
          "data": {
            "text/plain": [
              "<Figure size 1000x600 with 1 Axes>"
            ],
            "image/png": "[encoded data removed]"
          },
          "metadata": {}
        }
      ]
    },
    {
      "cell_type": "markdown",
      "source": [
        "The match is considered true if the test pet matches the identified pet in at least two instances.\n",
        "\n",
        "In this comparison, **L2** achieved a true match in 10 out of 17 instances, while cosine similarity achieved a true match in only 5. The function `is_true_match_for_metric` checks whether the test pet appears at least twice in the top 5 retrieved results for each similarity metric. The `compare_metrics` function evaluates both **L2** and cosine matches for each pet and compares the results. A histogram is plotted to visually compare the true match counts for both **L2** and **cosine similarity**, with **L2** outperforming **cosine** in terms of true matches."
      ],
      "metadata": {
        "id": "6qeBIQhDFMAa"
      }
    },
    {
      "cell_type": "code",
      "source": [
        "# check if match is true for a metric\n",
        "def is_true_match_for_metric(matches, test_pet_name):\n",
        "    return sum(1 for match in matches if match == test_pet_name) >= 2\n",
        "\n",
        "# compare results for L2 and Cosine similarity\n",
        "def compare_metrics(test_pet_idx, k=5):\n",
        "    results = test_pet_retrieval(test_pet_idx, k)\n",
        "    l2_matches = [result['Matched_Pet_L2'] for result in results]\n",
        "    cos_matches = [result['Matched_Pet_Cosine'] for result in results]\n",
        "    test_pet_name = all_pet_names[test_pet_idx]\n",
        "\n",
        "    return {\n",
        "        'Test_Pet': test_pet_name,\n",
        "        'L2_Matches': l2_matches,\n",
        "        'Cosine_Matches': cos_matches,\n",
        "        'L2_True_Match': is_true_match_for_metric(l2_matches, test_pet_name),\n",
        "        'Cosine_True_Match': is_true_match_for_metric(cos_matches, test_pet_name)\n",
        "    }\n",
        "\n",
        "# compare metrics for each pet\n",
        "comparison_results = [compare_metrics(idx) for idx in unique_pet_indices]\n",
        "\n",
        "# create DataFrame for results\n",
        "def create_results_dataframe(comparison_results):\n",
        "    return pd.DataFrame([{\n",
        "        'Test_Pet': res['Test_Pet'],\n",
        "        'L2_True_Match': res['L2_True_Match'],\n",
        "        'Cosine_True_Match': res['Cosine_True_Match']\n",
        "    } for res in comparison_results])\n",
        "\n",
        "comparison_df = create_results_dataframe(comparison_results)\n",
        "\n",
        "# display true matches\n",
        "print(\"true matches:\")\n",
        "print(comparison_df)\n",
        "\n",
        "# plot histogram for L2 vs Cosine true matches\n",
        "plt.figure(figsize=(10, 6))\n",
        "plt.bar(['L2 true matches', 'cosine true matches'], [\n",
        "    comparison_df['L2_True_Match'].sum(),\n",
        "    comparison_df['Cosine_True_Match'].sum()\n",
        "], color=['blue', 'green'])\n",
        "\n",
        "plt.xlabel('metric')\n",
        "plt.ylabel('true match count')\n",
        "plt.title('L2 vs cos')\n",
        "plt.show()\n"
      ],
      "metadata": {
        "colab": {
          "base_uri": "https://localhost:8080/",
          "height": 894
        },
        "id": "AkDc-HrOD1je",
        "outputId": "71666c39-7e71-43d9-ebba-3ac454b61789"
      },
      "execution_count": 19,
      "outputs": [
        {
          "output_type": "stream",
          "name": "stdout",
          "text": [
            "true matches:\n",
            "   Test_Pet  L2_True_Match  Cosine_True_Match\n",
            "0    Tanyny           True               True\n",
            "1     Haily           True              False\n",
            "2       Egy           True              False\n",
            "3     Randy           True              False\n",
            "4     Alfík          False               True\n",
            "5     Juicy          False              False\n",
            "6      Urri           True               True\n",
            "7      Lily           True              False\n",
            "8    Užovka          False              False\n",
            "9      Endy           True               True\n",
            "10     Gigy          False              False\n",
            "11      Rey          False              False\n",
            "12    Želva          False              False\n",
            "13   Terina           True               True\n",
            "14    Pedro           True              False\n",
            "15      Ira           True              False\n",
            "16    Adolf          False              False\n"
          ]
        },
        {
          "output_type": "display_data",
          "data": {
            "text/plain": [
              "<Figure size 1000x600 with 1 Axes>"
            ],
            "image/png": "[encoded data removed]"
          },
          "metadata": {}
        }
      ]
    }
  ],
  "metadata": {
    "colab": {
      "name": "Welcome To Colab",
      "provenance": [],
      "include_colab_link": true
    },
    "kernelspec": {
      "display_name": "Python 3",
      "name": "python3"
    }
  },
  "nbformat": 4,
  "nbformat_minor": 0
}